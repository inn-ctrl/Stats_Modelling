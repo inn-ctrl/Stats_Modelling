{
 "cells": [
  {
   "cell_type": "code",
   "execution_count": 1,
   "id": "ed40a4cf-e691-481d-87fe-6b6bd8b4d26d",
   "metadata": {},
   "outputs": [],
   "source": [
    "import pandas as pd"
   ]
  },
  {
   "cell_type": "code",
   "execution_count": 6,
   "id": "4b1ff016-4fee-4207-8f02-213fb00e906e",
   "metadata": {},
   "outputs": [
    {
     "ename": "SyntaxError",
     "evalue": "invalid syntax (40938906.py, line 1)",
     "output_type": "error",
     "traceback": [
      "\u001b[0;36m  Cell \u001b[0;32mIn[6], line 1\u001b[0;36m\u001b[0m\n\u001b[0;31m    data =\u001b[0m\n\u001b[0m           ^\u001b[0m\n\u001b[0;31mSyntaxError\u001b[0m\u001b[0;31m:\u001b[0m invalid syntax\n"
     ]
    }
   ],
   "source": [
    "\n",
    "data = {'company': ['PBSC', 'Serco Group plc'],\n",
    " 'href': '/v2/networks/santander-cycles',\n",
    " 'id': 'santander-cycles',\n",
    " 'location': {'city': 'London',\n",
    "  'country': 'GB',\n",
    "  'latitude': 51.51121389999999,\n",
    "  'longitude': -0.1198244},\n",
    " 'name': 'Santander Cycles',\n",
    " 'stations': [{'empty_slots': 8,\n",
    "   'extra': {'installDate': '1278947280000',\n",
    "    'installed': True,\n",
    "    'locked': False,\n",
    "    'name': 'River Street , Clerkenwell',\n",
    "    'removalDate': '',\n",
    "    'temporary': False,\n",
    "    'terminalName': '001023',\n",
    "    'uid': 1},\n",
    "   'free_bikes': 11,\n",
    "   'id': '7f3020118e56165ed8b2f61899edb971',\n",
    "   'latitude': 51.52916347,\n",
    "   'longitude': -0.109970527,\n",
    "   'name': '001023 - River Street , Clerkenwell',\n",
    "   'timestamp': '2024-05-06T23:51:13.231000Z'},\n",
    "  {'empty_slots': 28,\n",
    "   'extra': {'installDate': '1278585780000',\n",
    "    'installed': True,\n",
    "    'locked': False,\n",
    "    'name': 'Phillimore Gardens, Kensington',\n",
    "    'removalDate': '',\n",
    "    'temporary': False,\n",
    "    'terminalName': '001018',\n",
    "    'uid': 2},\n",
    "   'free_bikes': 9,\n",
    "   'id': '67e6c16bce05410ba4b1f0f5000726ea',\n",
    "   'latitude': 51.49960695,\n",
    "   'longitude': -0.197574246,\n",
    "   'name': '001018 - Phillimore Gardens, Kensington',\n",
    "   'timestamp': '2024-05-06T23:51:13.250000Z'}]}"
   ]
  },
  {
   "cell_type": "code",
   "execution_count": null,
   "id": "964c8d09-a9cb-4597-91c4-f63764a62143",
   "metadata": {},
   "outputs": [],
   "source": []
  }
 ],
 "metadata": {
  "kernelspec": {
   "display_name": "Python 3 (ipykernel)",
   "language": "python",
   "name": "python3"
  },
  "language_info": {
   "codemirror_mode": {
    "name": "ipython",
    "version": 3
   },
   "file_extension": ".py",
   "mimetype": "text/x-python",
   "name": "python",
   "nbconvert_exporter": "python",
   "pygments_lexer": "ipython3",
   "version": "3.11.7"
  }
 },
 "nbformat": 4,
 "nbformat_minor": 5
}
