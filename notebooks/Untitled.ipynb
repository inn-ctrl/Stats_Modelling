{
 "cells": [
  {
   "cell_type": "code",
   "execution_count": 20,
   "id": "6e8b5f01-0089-42c3-9ab6-755724cb0002",
   "metadata": {},
   "outputs": [],
   "source": [
    "import requests\n",
    "import pandas as pd\n",
    "\n",
    "\n"
   ]
  },
  {
   "cell_type": "code",
   "execution_count": 21,
   "id": "d384f746-ab52-4c71-a3cb-a288e9d1b5a2",
   "metadata": {},
   "outputs": [],
   "source": [
    "# Step 1: Explore the API documentation and understand its structure\n",
    "\n",
    "# Step 2: Choose a city covered by CityBikes API\n",
    "city_name = \"Toronto\"\n"
   ]
  },
  {
   "cell_type": "code",
   "execution_count": 22,
   "id": "aabac8be-51a2-4b8d-9a09-755847663d81",
   "metadata": {},
   "outputs": [],
   "source": [
    "# Step 3: Retrieve all available bike stations in the chosen city\n",
    "stations_url = f\"https://api.citybik.es/v2/networks/{city_name}\"\n",
    "\n"
   ]
  },
  {
   "cell_type": "code",
   "execution_count": 23,
   "id": "8456827d-1666-4be3-8704-539b00df2422",
   "metadata": {},
   "outputs": [],
   "source": [
    "response = requests.get(stations_url)\n"
   ]
  },
  {
   "cell_type": "code",
   "execution_count": 24,
   "id": "96abb5c2-1db8-44f4-bdae-cb17c6af695b",
   "metadata": {},
   "outputs": [],
   "source": [
    "stations_data = response.json"
   ]
  },
  {
   "cell_type": "code",
   "execution_count": 15,
   "id": "36ee8a91-f65e-4f43-8130-9ac02d17c30d",
   "metadata": {},
   "outputs": [
    {
     "ename": "TypeError",
     "evalue": "'method' object is not subscriptable",
     "output_type": "error",
     "traceback": [
      "\u001b[0;31m---------------------------------------------------------------------------\u001b[0m",
      "\u001b[0;31mTypeError\u001b[0m                                 Traceback (most recent call last)",
      "Cell \u001b[0;32mIn[15], line 3\u001b[0m\n\u001b[1;32m      1\u001b[0m \u001b[38;5;66;03m# Step 4: Get station details (latitude, longitude, number of bikes) for each station\u001b[39;00m\n\u001b[1;32m      2\u001b[0m station_details \u001b[38;5;241m=\u001b[39m []\n\u001b[0;32m----> 3\u001b[0m \u001b[38;5;28;01mfor\u001b[39;00m station \u001b[38;5;129;01min\u001b[39;00m stations_data[\u001b[38;5;124m'\u001b[39m\u001b[38;5;124mnetwork\u001b[39m\u001b[38;5;124m'\u001b[39m][\u001b[38;5;124m'\u001b[39m\u001b[38;5;124mstations\u001b[39m\u001b[38;5;124m'\u001b[39m]:\n\u001b[1;32m      4\u001b[0m     \u001b[38;5;28;01mtry\u001b[39;00m:\n\u001b[1;32m      5\u001b[0m         station_id \u001b[38;5;241m=\u001b[39m station[\u001b[38;5;124m'\u001b[39m\u001b[38;5;124mid\u001b[39m\u001b[38;5;124m'\u001b[39m]\n",
      "\u001b[0;31mTypeError\u001b[0m: 'method' object is not subscriptable"
     ]
    }
   ],
   "source": [
    "# Step 4: Get station details (latitude, longitude, number of bikes) for each station\n",
    "station_details = []\n",
    "for station in stations_data['network']['stations']:\n",
    "    try:\n",
    "        station_id = station['id']\n",
    "        station_info_url = f\"https://api.citybik.es/v2/networks/{city_name}/stations/{station_id}\"\n",
    "        station_info_response = requests.get(station_info_url)\n",
    "        station_info = station_info_response.json()\n",
    "        latitude = station_info['location']['latitude']\n",
    "        longitude = station_info['location']['longitude']\n",
    "        bikes_available = station_info['free_bikes']\n",
    "        station_details.append({'latitude': latitude, 'longitude': longitude, 'bikes_available': bikes_available})\n",
    "    except KeyError:\n",
    "        # Handle missing or incomplete data for a station\n",
    "        print(f\"Error processing station ID {station_id}: Missing or incomplete data\")\n",
    "        continue\n",
    "\n"
   ]
  },
  {
   "cell_type": "code",
   "execution_count": 14,
   "id": "2a87216b-15b7-4206-afa3-292664363f62",
   "metadata": {},
   "outputs": [],
   "source": [
    "# Step 5: Parse JSON into Pandas DataFrame\n",
    "df = pd.DataFrame(station_details)"
   ]
  },
  {
   "cell_type": "code",
   "execution_count": null,
   "id": "eaef96f5-9576-471d-acaa-ce3baf5aea55",
   "metadata": {},
   "outputs": [],
   "source": []
  }
 ],
 "metadata": {
  "kernelspec": {
   "display_name": "Python 3 (ipykernel)",
   "language": "python",
   "name": "python3"
  },
  "language_info": {
   "codemirror_mode": {
    "name": "ipython",
    "version": 3
   },
   "file_extension": ".py",
   "mimetype": "text/x-python",
   "name": "python",
   "nbconvert_exporter": "python",
   "pygments_lexer": "ipython3",
   "version": "3.11.7"
  }
 },
 "nbformat": 4,
 "nbformat_minor": 5
}
