{
 "cells": [
  {
   "cell_type": "code",
   "execution_count": 2,
   "id": "9a7d8e51-1435-4959-8da1-de6e8eaf5dd7",
   "metadata": {},
   "outputs": [],
   "source": [
    "import numpy as np"
   ]
  },
  {
   "cell_type": "code",
   "execution_count": 3,
   "id": "563e3dc5-7d39-4a20-861c-953cf4a4bc04",
   "metadata": {},
   "outputs": [
    {
     "data": {
      "text/plain": [
       "array([1, 2, 3, 4])"
      ]
     },
     "execution_count": 3,
     "metadata": {},
     "output_type": "execute_result"
    }
   ],
   "source": [
    "#let's create the vector which is a part of a nd array\n",
    "x = np.array([1, 2, 3, 4])\n",
    "x"
   ]
  },
  {
   "cell_type": "code",
   "execution_count": 4,
   "id": "ce8ad2d5-b1a7-4298-8ba4-47e1eaa7a2c7",
   "metadata": {},
   "outputs": [
    {
     "data": {
      "text/plain": [
       "array([[1, 2],\n",
       "       [3, 4],\n",
       "       [5, 6]])"
      ]
     },
     "execution_count": 4,
     "metadata": {},
     "output_type": "execute_result"
    }
   ],
   "source": [
    "y = np.array([[1,2], [3, 4], [5,6]])\n",
    "y"
   ]
  },
  {
   "cell_type": "code",
   "execution_count": 5,
   "id": "11d1850d-2009-4d93-9f3f-ecca05a5695d",
   "metadata": {},
   "outputs": [
    {
     "data": {
      "text/plain": [
       "numpy.ndarray"
      ]
     },
     "execution_count": 5,
     "metadata": {},
     "output_type": "execute_result"
    }
   ],
   "source": [
    "type(x)"
   ]
  },
  {
   "cell_type": "code",
   "execution_count": 6,
   "id": "36230ab7-b448-4f5b-9339-0040051b570f",
   "metadata": {},
   "outputs": [
    {
     "data": {
      "text/plain": [
       "numpy.ndarray"
      ]
     },
     "execution_count": 6,
     "metadata": {},
     "output_type": "execute_result"
    }
   ],
   "source": [
    "type(y)"
   ]
  },
  {
   "cell_type": "code",
   "execution_count": 9,
   "id": "66ddb1e1-4f03-4953-8d5a-9b3a47475b64",
   "metadata": {},
   "outputs": [
    {
     "data": {
      "text/plain": [
       "(3, 2)"
      ]
     },
     "execution_count": 9,
     "metadata": {},
     "output_type": "execute_result"
    }
   ],
   "source": [
    "#shape gives dimension of an array (rows, columns)\n",
    "y.shape"
   ]
  },
  {
   "cell_type": "code",
   "execution_count": 11,
   "id": "875d743c-de30-498b-9de8-f734f8df89c7",
   "metadata": {},
   "outputs": [],
   "source": [
    "#transposition\n"
   ]
  },
  {
   "cell_type": "code",
   "execution_count": 12,
   "id": "e9d919cf-ed6a-40e0-8508-f0ab3e99c34e",
   "metadata": {},
   "outputs": [
    {
     "data": {
      "text/plain": [
       "array([[1, 3, 5],\n",
       "       [2, 4, 6]])"
      ]
     },
     "execution_count": 12,
     "metadata": {},
     "output_type": "execute_result"
    }
   ],
   "source": [
    "yt = y.transpose()\n",
    "yt"
   ]
  },
  {
   "cell_type": "code",
   "execution_count": 14,
   "id": "f37d5779-1700-4617-9720-d872307896c0",
   "metadata": {},
   "outputs": [
    {
     "data": {
      "text/plain": [
       "array([5, 6, 7, 8])"
      ]
     },
     "execution_count": 14,
     "metadata": {},
     "output_type": "execute_result"
    }
   ],
   "source": [
    "#Mattrix addition\n",
    "# similar values are added\n",
    "# scalar values are broadcasted only if the first array has same nber\n",
    "#of rows as the second one, and one has only one column\n",
    "c = 4\n",
    "z = c + x\n",
    "z"
   ]
  },
  {
   "cell_type": "code",
   "execution_count": 15,
   "id": "8c4ef788-3d05-4f9c-9a9c-8919236032c9",
   "metadata": {},
   "outputs": [
    {
     "data": {
      "text/plain": [
       "array([[10],\n",
       "       [22],\n",
       "       [34]])"
      ]
     },
     "execution_count": 15,
     "metadata": {},
     "output_type": "execute_result"
    }
   ],
   "source": [
    "#multiplication: dot product\n",
    "#nber of columns of first matrix = nber of rows of 2nd\n",
    "A = np.array([[1, 2], [3, 4], [5, 6]]) \n",
    "B = np.array([[2], [4]])\n",
    "C = A.dot(B)\n",
    "C"
   ]
  },
  {
   "cell_type": "code",
   "execution_count": null,
   "id": "8543e084-7205-4925-8744-9828289c885d",
   "metadata": {},
   "outputs": [],
   "source": [
    "#Matrix multiplication is not commutative ( AB!=BA)"
   ]
  }
 ],
 "metadata": {
  "kernelspec": {
   "display_name": "Python 3 (ipykernel)",
   "language": "python",
   "name": "python3"
  },
  "language_info": {
   "codemirror_mode": {
    "name": "ipython",
    "version": 3
   },
   "file_extension": ".py",
   "mimetype": "text/x-python",
   "name": "python",
   "nbconvert_exporter": "python",
   "pygments_lexer": "ipython3",
   "version": "3.11.7"
  }
 },
 "nbformat": 4,
 "nbformat_minor": 5
}
